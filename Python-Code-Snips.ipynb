{
 "cells": [
  {
   "cell_type": "markdown",
   "id": "eb015880-9f9b-4887-b662-8cba34c569b8",
   "metadata": {},
   "source": [
    "PYTHON CODE SNIPPITS"
   ]
  },
  {
   "cell_type": "code",
   "execution_count": null,
   "id": "b06ea4d7-633e-481d-bd9c-79377bbdfee3",
   "metadata": {},
   "outputs": [],
   "source": []
  }
 ],
 "metadata": {
  "kernelspec": {
   "display_name": "Python 3 (ipykernel)",
   "language": "python",
   "name": "python3"
  },
  "language_info": {
   "codemirror_mode": {
    "name": "ipython",
    "version": 3
   },
   "file_extension": ".py",
   "mimetype": "text/x-python",
   "name": "python",
   "nbconvert_exporter": "python",
   "pygments_lexer": "ipython3",
   "version": "3.11.11"
  }
 },
 "nbformat": 4,
 "nbformat_minor": 5
}
